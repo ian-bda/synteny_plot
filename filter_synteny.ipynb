{
 "cells": [
  {
   "cell_type": "code",
   "execution_count": null,
   "id": "df924d54-1996-47c9-8612-5466bcf6ab58",
   "metadata": {
    "tags": []
   },
   "outputs": [
    {
     "name": "stdout",
     "output_type": "stream",
     "text": [
      "Filtered data saved to: C:\\Users\\ibirc\\OneDrive\\Documents\\Projects\\CD_300\\Cetaceans\\synteny_results\\parsed_synteny/synteny_sperm_whale_parsed.vaquita_parsed_filtered_14_20.csv\n"
     ]
    }
   ],
   "source": [
    "import pandas as pd\n",
    "import os\n",
    "\n",
    "# Function to filter rows based on specified chromosomes and save to a new CSV\n",
    "def filter_chromosomes(input_csv, chrom1_filter, chrom2_filter, output_dir):\n",
    "    # Load the CSV file into a pandas DataFrame\n",
    "    df = pd.read_csv(input_csv, delimiter=\"\\t\")  # Assuming tab-separated CSV\n",
    "    \n",
    "    # Filter the rows based on the chromosome conditions\n",
    "    filtered_df = df[(df['chrom1'] == chrom1_filter) & (df['chrom2'] == chrom2_filter)]\n",
    "    \n",
    "    # Extract the original file name (without extension) and construct the new file name\n",
    "    original_file_name = os.path.splitext(os.path.basename(input_csv))[0]\n",
    "    \n",
    "    # Create the new output file name\n",
    "    output_file = f\"{output_dir}/{original_file_name}_filtered_{chrom1_filter}_{chrom2_filter}.csv\"\n",
    "    \n",
    "    # Write the filtered DataFrame to a new CSV file\n",
    "    filtered_df.to_csv(output_file, index=False)\n",
    "    \n",
    "    print(f\"Filtered data saved to: {output_file}\")\n",
    "\n",
    "# Define the input CSV path and the desired chromosome values\n",
    "input_csv = \"xxx\"  # Replace with your actual input file path\n",
    "chrom1_filter = xx  # Replace with chromosome you want for species 1 \n",
    "chrom2_filter = xx  # Replace with chromosome you want for species 2\n",
    "output_dir = \"xxx\"\n",
    "\n",
    "# Call the function to filter and save the data\n",
    "filter_chromosomes(input_csv, chrom1_filter, chrom2_filter, output_dir)\n"
   ]
  }
 ],
 "metadata": {
  "kernelspec": {
   "display_name": "Python 3 (ipykernel)",
   "language": "python",
   "name": "python3"
  },
  "language_info": {
   "codemirror_mode": {
    "name": "ipython",
    "version": 3
   },
   "file_extension": ".py",
   "mimetype": "text/x-python",
   "name": "python",
   "nbconvert_exporter": "python",
   "pygments_lexer": "ipython3",
   "version": "3.11.4"
  }
 },
 "nbformat": 4,
 "nbformat_minor": 5
}
